{
 "cells": [
  {
   "cell_type": "code",
   "execution_count": 3,
   "id": "be321242",
   "metadata": {},
   "outputs": [],
   "source": [
    "import os\n",
    "import json\n",
    "import pandas as pd\n",
    "import traceback"
   ]
  },
  {
   "cell_type": "code",
   "execution_count": 6,
   "id": "f190b813",
   "metadata": {},
   "outputs": [],
   "source": [
    "from langchain_google_genai import ChatGoogleGenerativeAI\n"
   ]
  },
  {
   "cell_type": "code",
   "execution_count": 8,
   "id": "a2c2b543",
   "metadata": {},
   "outputs": [],
   "source": [
    "from dotenv import load_dotenv\n",
    "load_dotenv()\n",
    "KEY=os.getenv(\"GEMINI_API_KEY\")"
   ]
  },
  {
   "cell_type": "code",
   "execution_count": 10,
   "id": "a8c392be",
   "metadata": {},
   "outputs": [],
   "source": [
    "llm=ChatGoogleGenerativeAI(google_api_key=KEY,model=\"gemini-2.0-flash-exp\",temperature=0.5)"
   ]
  },
  {
   "cell_type": "code",
   "execution_count": 11,
   "id": "868a467c",
   "metadata": {},
   "outputs": [
    {
     "data": {
      "text/plain": [
       "ChatGoogleGenerativeAI(model='models/gemini-2.0-flash-exp', google_api_key=SecretStr('**********'), temperature=0.5, client=<google.ai.generativelanguage_v1beta.services.generative_service.client.GenerativeServiceClient object at 0x000002AA2E3B04C0>, default_metadata=(), model_kwargs={})"
      ]
     },
     "execution_count": 11,
     "metadata": {},
     "output_type": "execute_result"
    }
   ],
   "source": [
    "llm"
   ]
  },
  {
   "cell_type": "code",
   "execution_count": null,
   "id": "4213271f",
   "metadata": {},
   "outputs": [],
   "source": [
    "from langchain_google_genai import ChatGoogleGenerativeAI   # Gemini LLM\n",
    "\n",
    "from langchain.prompts import PromptTemplate                 # For custom prompts\n",
    "from langchain.chains import LLMChain, SequentialChain       # For chaining\n",
    "import PyPDF2                                                # For PDF reading\n"
   ]
  },
  {
   "cell_type": "code",
   "execution_count": 14,
   "id": "c44d93e7",
   "metadata": {},
   "outputs": [],
   "source": [
    "RESPONSE_JSON={\n",
    "    \"1\": {\n",
    "        \"mcq\": \"multiple choice question\",\n",
    "        \"options\": {\n",
    "            \"a\": \"choice here\",\n",
    "            \"b\": \"choice here\",\n",
    "            \"c\": \"choice here\",\n",
    "            \"d\": \"choice here\"\n",
    "        },\n",
    "        \"correct\": \"correct answer\"\n",
    "    },\n",
    "    \"2\": {\n",
    "        \"mcq\": \"multiple choice question\",\n",
    "        \"options\": {\n",
    "            \"a\": \"choice here\",\n",
    "            \"b\": \"choice here\",\n",
    "            \"c\": \"choice here\",\n",
    "            \"d\": \"choice here\"\n",
    "        },\n",
    "        \"correct\": \"correct answer\"\n",
    "    },\n",
    "    \"3\": {\n",
    "        \"mcq\": \"multiple choice question\",\n",
    "        \"options\": {\n",
    "            \"a\": \"choice here\",\n",
    "            \"b\": \"choice here\",\n",
    "            \"c\": \"choice here\",\n",
    "            \"d\": \"choice here\"\n",
    "        },\n",
    "        \"correct\": \"correct answer\"\n",
    "    },\n",
    "    \"4\": {\n",
    "        \"mcq\": \"multiple choice question\",\n",
    "        \"options\": {\n",
    "            \"a\": \"choice here\",\n",
    "            \"b\": \"choice here\",\n",
    "            \"c\": \"choice here\",\n",
    "            \"d\": \"choice here\"\n",
    "        },\n",
    "        \"correct\": \"correct answer\"\n",
    "    },\n",
    "    \"5\": {\n",
    "        \"mcq\": \"multiple choice question\",\n",
    "        \"options\": {\n",
    "            \"a\": \"choice here\",\n",
    "            \"b\": \"choice here\",\n",
    "            \"c\": \"choice here\",\n",
    "            \"d\": \"choice here\"\n",
    "        },\n",
    "        \"correct\": \"correct answer\"\n",
    "    }\n",
    "}"
   ]
  },
  {
   "cell_type": "code",
   "execution_count": 15,
   "id": "3bd956c7",
   "metadata": {},
   "outputs": [],
   "source": [
    "TEMPLATE=\"\"\"\n",
    "Text:{text}\n",
    "You are an expert MCQ maker. Given the above text, it is your job to \\\n",
    "create a quiz of {number} multiple choice questions for {subject} students in {tone} tone.\n",
    "Make sure the questions are not repeated and check all the questions to be conforming the text as well.\n",
    "Make sure to format your response like RESPONSE_JSON below and use it as a guide. \\\n",
    "Ensure to make {number} MCQs\n",
    "### RESPONSE_JSON\n",
    "{response_json}\n",
    "\n",
    "\n",
    "\"\"\""
   ]
  },
  {
   "cell_type": "code",
   "execution_count": 16,
   "id": "c4501a64",
   "metadata": {},
   "outputs": [],
   "source": [
    "quiz_generation_prompt=PromptTemplate(\n",
    "    input_variables=[\"text\",\"number\",\"subject\",\"tone\",\"response_json\"],\n",
    "    template=TEMPLATE\n",
    ")"
   ]
  },
  {
   "cell_type": "code",
   "execution_count": 28,
   "id": "e436e80e",
   "metadata": {},
   "outputs": [],
   "source": [
    "quiz_chain=LLMChain(llm=llm, prompt=quiz_generation_prompt, output_key=\"quiz\", verbose=True)\n",
    "#quiz_chain= quiz_generation_prompt | llm"
   ]
  },
  {
   "cell_type": "code",
   "execution_count": 24,
   "id": "aca935b1",
   "metadata": {},
   "outputs": [],
   "source": [
    "TEMPLATE2=\"\"\" \n",
    "You are an expert English grammarian and writer. Given a Multiple Choice Quiz for {subject} students.\\\n",
    "You need to evaluate complexity of the question and give a complete analysis of the quiz. Only use at max 50 words for complexity.\n",
    "If the quiz is not at per with the cognitive and analytical abilities of the student,\\\n",
    "update the quiz questions which needs to be changed and change the tone such that it perfectly fits the student abilities.\n",
    "Quiz_MCQs:\n",
    "{quiz}\n",
    "\n",
    "Check from an expert English Writer of the above quiz:\n",
    "\"\"\""
   ]
  },
  {
   "cell_type": "code",
   "execution_count": 25,
   "id": "6601cf42",
   "metadata": {},
   "outputs": [],
   "source": [
    "quiz_evaluation_prompt=PromptTemplate(\n",
    "    input_variables=[\"subject\", \"quiz\"],\n",
    "    template=TEMPLATE2\n",
    ")"
   ]
  },
  {
   "cell_type": "code",
   "execution_count": null,
   "id": "1ed438e9",
   "metadata": {},
   "outputs": [],
   "source": [
    "#review_chain= quiz_evaluation_prompt | llm\n",
    "review_chain=LLMChain(llm=llm, prompt=quiz_evaluation_prompt, output_key=\"review\", verbose=True)\n"
   ]
  },
  {
   "cell_type": "code",
   "execution_count": 31,
   "id": "38b84f01",
   "metadata": {},
   "outputs": [],
   "source": [
    "generate_evaluate_chain=SequentialChain(chains=[quiz_chain,review_chain], \n",
    "                                        input_variables=[\"text\",\"number\",\"subject\",\"tone\",\"response_json\"],output_variables=[\"quiz\",\"review\"],verbose=True)"
   ]
  },
  {
   "cell_type": "code",
   "execution_count": 32,
   "id": "f6816402",
   "metadata": {},
   "outputs": [],
   "source": [
    "file_path=r'C:\\Users\\Anitha\\mcqgen\\data.txt'\n"
   ]
  },
  {
   "cell_type": "code",
   "execution_count": 33,
   "id": "c77252fa",
   "metadata": {},
   "outputs": [
    {
     "data": {
      "text/plain": [
       "'C:\\\\Users\\\\Anitha\\\\mcqgen\\\\data.txt'"
      ]
     },
     "execution_count": 33,
     "metadata": {},
     "output_type": "execute_result"
    }
   ],
   "source": [
    "file_path"
   ]
  },
  {
   "cell_type": "code",
   "execution_count": 34,
   "id": "b8010785",
   "metadata": {},
   "outputs": [],
   "source": [
    "with open(file_path,'r') as file:\n",
    "    TEXT=file.read()"
   ]
  },
  {
   "cell_type": "code",
   "execution_count": 36,
   "id": "05db5c58",
   "metadata": {},
   "outputs": [
    {
     "name": "stdout",
     "output_type": "stream",
     "text": [
      "A quantum computer is a (real or theoretical) computer that uses quantum mechanical phenomena in an essential way: a quantum computer exploits superposed and entangled states and the (non-deterministic) outcomes of quantum measurements as features of its computation. Ordinary (\"classical\") computers operate, by contrast, using deterministic rules. Any classical computer can, in principle, be replicated using a (classical) mechanical device such as a Turing machine, with at most a constant-factor slowdown in time—unlike quantum computers, which are believed to require exponentially more resources to simulate classically. It is widely believed that a scalable quantum computer could perform some calculations exponentially faster than any classical computer. Theoretically, a large-scale quantum computer could break some widely used encryption schemes and aid physicists in performing physical simulations. However, current hardware implementations of quantum computation are largely experimental and only suitable for specialized tasks.The basic unit of information in quantum computing, the qubit (or \"quantum bit\"), serves the same function as the bit in ordinary or \"classical\" computing.[1] However, unlike a classical bit, which can be in one of two states (a binary), a qubit can exist in a superposition of its two \"basis\" states, a state that is in an abstract sense \"between\" the two basis states. When measuring a qubit, the result is a probabilistic output of a classical bit. If a quantum computer manipulates the qubit in a particular way, wave interference effects can amplify the desired measurement results. The design of quantum algorithms involves creating procedures that allow a quantum computer to perform calculations efficiently and quickly.\n",
      "Quantum computers are not yet practical for real-world applications. Physically engineering high-quality qubits has proven to be challenging. If a physical qubit is not sufficiently isolated from its environment, it suffers from quantum decoherence, introducing noise into calculations. National governments have invested heavily in experimental research aimed at developing scalable qubits with longer coherence times and lower error rates. Example implementations include superconductors (which isolate an electrical current by eliminating electrical resistance) and ion traps (which confine a single atomic particle using electromagnetic fields). Researchers have claimed, and are widely believed to be correct, that certain quantum devices can outperform classical computers on narrowly defined tasks, a milestone referred to as quantum advantage or quantum supremacy. These tasks are not necessarily useful for real-world applications.\n",
      "For many years, the fields of quantum mechanics and computer science formed distinct academic communities.[2] Modern quantum theory developed in the 1920s to explain perplexing physical phenomena observed at atomic scales,[3][4] and digital computers emerged in the following decades to replace human computers for tedious calculations.[5] Both disciplines had practical applications during World War II; computers played a major role in wartime cryptography,[6] and quantum physics was essential for nuclear physics used in the Manhattan Project.[7]\n",
      "\n",
      "As physicists applied quantum mechanical models to computational problems and swapped digital bits for qubits, the fields of quantum mechanics and computer science began to converge. In 1980, Paul Benioff introduced the quantum Turing machine, which uses quantum theory to describe a simplified computer.[8] When digital computers became faster, physicists faced an exponential increase in overhead when simulating quantum dynamics,[9] prompting Yuri Manin and Richard Feynman to independently suggest that hardware based on quantum phenomena might be more efficient for computer simulation.[10][11][12] In a 1984 paper, Charles Bennett and Gilles Brassard applied quantum theory to cryptography protocols and demonstrated that quantum key distribution could enhance information security.[13][14]\n",
      "\n",
      "Quantum algorithms then emerged for solving oracle problems, such as Deutsch's algorithm in 1985,[15] the Bernstein–Vazirani algorithm in 1993,[16] and Simon's algorithm in 1994.[17] These algorithms did not solve practical problems, but demonstrated mathematically that one could gain more information by querying a black box with a quantum state in superposition, sometimes referred to as quantum parallelism.[18]\n",
      "\n",
      "\n",
      "Peter Shor (pictured here in 2017) showed in 1994 that a scalable quantum computer would be able to break RSA encryption.\n",
      "Peter Shor built on these results with his 1994 algorithm for breaking the widely used RSA and Diffie–Hellman encryption protocols,[19] which drew significant attention to the field of quantum computing. In 1996, Grover's algorithm established a quantum speedup for the widely applicable unstructured search problem.[20][21] The same year, Seth Lloyd proved that quantum computers could simulate quantum systems without the exponential overhead present in classical simulations,[22] validating Feynman's 1982 conjecture.[23]\n",
      "\n",
      "Over the years, experimentalists have constructed small-scale quantum computers using trapped ions and superconductors.[24] In 1998, a two-qubit quantum computer demonstrated the feasibility of the technology,[25][26] and subsequent experiments have increased the number of qubits and reduced error rates.[24]\n",
      "\n",
      "\n",
      "\n",
      "\n",
      "\n",
      "\n",
      "\n"
     ]
    }
   ],
   "source": [
    "print(TEXT)"
   ]
  },
  {
   "cell_type": "code",
   "execution_count": 37,
   "id": "6a4b39a6",
   "metadata": {},
   "outputs": [
    {
     "data": {
      "text/plain": [
       "'{\"1\": {\"mcq\": \"multiple choice question\", \"options\": {\"a\": \"choice here\", \"b\": \"choice here\", \"c\": \"choice here\", \"d\": \"choice here\"}, \"correct\": \"correct answer\"}, \"2\": {\"mcq\": \"multiple choice question\", \"options\": {\"a\": \"choice here\", \"b\": \"choice here\", \"c\": \"choice here\", \"d\": \"choice here\"}, \"correct\": \"correct answer\"}, \"3\": {\"mcq\": \"multiple choice question\", \"options\": {\"a\": \"choice here\", \"b\": \"choice here\", \"c\": \"choice here\", \"d\": \"choice here\"}, \"correct\": \"correct answer\"}, \"4\": {\"mcq\": \"multiple choice question\", \"options\": {\"a\": \"choice here\", \"b\": \"choice here\", \"c\": \"choice here\", \"d\": \"choice here\"}, \"correct\": \"correct answer\"}, \"5\": {\"mcq\": \"multiple choice question\", \"options\": {\"a\": \"choice here\", \"b\": \"choice here\", \"c\": \"choice here\", \"d\": \"choice here\"}, \"correct\": \"correct answer\"}}'"
      ]
     },
     "execution_count": 37,
     "metadata": {},
     "output_type": "execute_result"
    }
   ],
   "source": [
    "json.dumps(RESPONSE_JSON)"
   ]
  },
  {
   "cell_type": "code",
   "execution_count": 38,
   "id": "50dbc7fd",
   "metadata": {},
   "outputs": [],
   "source": [
    "NUMBER=5\n",
    "SUBJECT=\"quantum computing\"\n",
    "TONE=\"simple\""
   ]
  },
  {
   "cell_type": "code",
   "execution_count": 39,
   "id": "76afa6cd",
   "metadata": {},
   "outputs": [
    {
     "name": "stderr",
     "output_type": "stream",
     "text": [
      "C:\\Users\\Anitha\\AppData\\Local\\Temp\\ipykernel_3476\\1480018621.py:1: LangChainDeprecationWarning: The method `Chain.__call__` was deprecated in langchain 0.1.0 and will be removed in 1.0. Use :meth:`~invoke` instead.\n",
      "  response=generate_evaluate_chain(\n"
     ]
    },
    {
     "name": "stdout",
     "output_type": "stream",
     "text": [
      "\n",
      "\n",
      "\u001b[1m> Entering new SequentialChain chain...\u001b[0m\n",
      "\n",
      "\n",
      "\u001b[1m> Entering new LLMChain chain...\u001b[0m\n",
      "Prompt after formatting:\n",
      "\u001b[32;1m\u001b[1;3m\n",
      "Text:A quantum computer is a (real or theoretical) computer that uses quantum mechanical phenomena in an essential way: a quantum computer exploits superposed and entangled states and the (non-deterministic) outcomes of quantum measurements as features of its computation. Ordinary (\"classical\") computers operate, by contrast, using deterministic rules. Any classical computer can, in principle, be replicated using a (classical) mechanical device such as a Turing machine, with at most a constant-factor slowdown in time—unlike quantum computers, which are believed to require exponentially more resources to simulate classically. It is widely believed that a scalable quantum computer could perform some calculations exponentially faster than any classical computer. Theoretically, a large-scale quantum computer could break some widely used encryption schemes and aid physicists in performing physical simulations. However, current hardware implementations of quantum computation are largely experimental and only suitable for specialized tasks.The basic unit of information in quantum computing, the qubit (or \"quantum bit\"), serves the same function as the bit in ordinary or \"classical\" computing.[1] However, unlike a classical bit, which can be in one of two states (a binary), a qubit can exist in a superposition of its two \"basis\" states, a state that is in an abstract sense \"between\" the two basis states. When measuring a qubit, the result is a probabilistic output of a classical bit. If a quantum computer manipulates the qubit in a particular way, wave interference effects can amplify the desired measurement results. The design of quantum algorithms involves creating procedures that allow a quantum computer to perform calculations efficiently and quickly.\n",
      "Quantum computers are not yet practical for real-world applications. Physically engineering high-quality qubits has proven to be challenging. If a physical qubit is not sufficiently isolated from its environment, it suffers from quantum decoherence, introducing noise into calculations. National governments have invested heavily in experimental research aimed at developing scalable qubits with longer coherence times and lower error rates. Example implementations include superconductors (which isolate an electrical current by eliminating electrical resistance) and ion traps (which confine a single atomic particle using electromagnetic fields). Researchers have claimed, and are widely believed to be correct, that certain quantum devices can outperform classical computers on narrowly defined tasks, a milestone referred to as quantum advantage or quantum supremacy. These tasks are not necessarily useful for real-world applications.\n",
      "For many years, the fields of quantum mechanics and computer science formed distinct academic communities.[2] Modern quantum theory developed in the 1920s to explain perplexing physical phenomena observed at atomic scales,[3][4] and digital computers emerged in the following decades to replace human computers for tedious calculations.[5] Both disciplines had practical applications during World War II; computers played a major role in wartime cryptography,[6] and quantum physics was essential for nuclear physics used in the Manhattan Project.[7]\n",
      "\n",
      "As physicists applied quantum mechanical models to computational problems and swapped digital bits for qubits, the fields of quantum mechanics and computer science began to converge. In 1980, Paul Benioff introduced the quantum Turing machine, which uses quantum theory to describe a simplified computer.[8] When digital computers became faster, physicists faced an exponential increase in overhead when simulating quantum dynamics,[9] prompting Yuri Manin and Richard Feynman to independently suggest that hardware based on quantum phenomena might be more efficient for computer simulation.[10][11][12] In a 1984 paper, Charles Bennett and Gilles Brassard applied quantum theory to cryptography protocols and demonstrated that quantum key distribution could enhance information security.[13][14]\n",
      "\n",
      "Quantum algorithms then emerged for solving oracle problems, such as Deutsch's algorithm in 1985,[15] the Bernstein–Vazirani algorithm in 1993,[16] and Simon's algorithm in 1994.[17] These algorithms did not solve practical problems, but demonstrated mathematically that one could gain more information by querying a black box with a quantum state in superposition, sometimes referred to as quantum parallelism.[18]\n",
      "\n",
      "\n",
      "Peter Shor (pictured here in 2017) showed in 1994 that a scalable quantum computer would be able to break RSA encryption.\n",
      "Peter Shor built on these results with his 1994 algorithm for breaking the widely used RSA and Diffie–Hellman encryption protocols,[19] which drew significant attention to the field of quantum computing. In 1996, Grover's algorithm established a quantum speedup for the widely applicable unstructured search problem.[20][21] The same year, Seth Lloyd proved that quantum computers could simulate quantum systems without the exponential overhead present in classical simulations,[22] validating Feynman's 1982 conjecture.[23]\n",
      "\n",
      "Over the years, experimentalists have constructed small-scale quantum computers using trapped ions and superconductors.[24] In 1998, a two-qubit quantum computer demonstrated the feasibility of the technology,[25][26] and subsequent experiments have increased the number of qubits and reduced error rates.[24]\n",
      "\n",
      "\n",
      "\n",
      "\n",
      "\n",
      "\n",
      "\n",
      "You are an expert MCQ maker. Given the above text, it is your job to create a quiz of 5 multiple choice questions for quantum computing students in simple tone.\n",
      "Make sure the questions are not repeated and check all the questions to be conforming the text as well.\n",
      "Make sure to format your response like RESPONSE_JSON below and use it as a guide. Ensure to make 5 MCQs\n",
      "### RESPONSE_JSON\n",
      "{\"1\": {\"mcq\": \"multiple choice question\", \"options\": {\"a\": \"choice here\", \"b\": \"choice here\", \"c\": \"choice here\", \"d\": \"choice here\"}, \"correct\": \"correct answer\"}, \"2\": {\"mcq\": \"multiple choice question\", \"options\": {\"a\": \"choice here\", \"b\": \"choice here\", \"c\": \"choice here\", \"d\": \"choice here\"}, \"correct\": \"correct answer\"}, \"3\": {\"mcq\": \"multiple choice question\", \"options\": {\"a\": \"choice here\", \"b\": \"choice here\", \"c\": \"choice here\", \"d\": \"choice here\"}, \"correct\": \"correct answer\"}, \"4\": {\"mcq\": \"multiple choice question\", \"options\": {\"a\": \"choice here\", \"b\": \"choice here\", \"c\": \"choice here\", \"d\": \"choice here\"}, \"correct\": \"correct answer\"}, \"5\": {\"mcq\": \"multiple choice question\", \"options\": {\"a\": \"choice here\", \"b\": \"choice here\", \"c\": \"choice here\", \"d\": \"choice here\"}, \"correct\": \"correct answer\"}}\n",
      "\n",
      "\n",
      "\u001b[0m\n",
      "\n",
      "\u001b[1m> Finished chain.\u001b[0m\n",
      "\n",
      "\n",
      "\u001b[1m> Entering new LLMChain chain...\u001b[0m\n",
      "Prompt after formatting:\n",
      "\u001b[32;1m\u001b[1;3m \n",
      "You are an expert English grammarian and writer. Given a Multiple Choice Quiz for quantum computing students.You need to evaluate complexity of the question and give a complete analysis of the quiz. Only use at max 50 words for complexity.\n",
      "If the quiz is not at per with the cognitive and analytical abilities of the student,update the quiz questions which needs to be changed and change the tone such that it perfectly fits the student abilities.\n",
      "Quiz_MCQs:\n",
      "```json\n",
      "{\n",
      "  \"1\": {\n",
      "    \"mcq\": \"What is a key difference between quantum computers and classical computers, according to the text?\",\n",
      "    \"options\": {\n",
      "      \"a\": \"Quantum computers use deterministic rules, while classical computers use quantum mechanical phenomena.\",\n",
      "      \"b\": \"Classical computers can be simulated by Turing machines with a constant-factor slowdown, while quantum computers are believed to require exponentially more resources to simulate classically.\",\n",
      "      \"c\": \"Quantum computers are always faster than classical computers for all types of calculations.\",\n",
      "      \"d\": \"Classical computers use qubits, while quantum computers use bits.\"\n",
      "    },\n",
      "    \"correct\": \"b\"\n",
      "  },\n",
      "  \"2\": {\n",
      "    \"mcq\": \"What is a qubit and how does it differ from a classical bit?\",\n",
      "    \"options\": {\n",
      "      \"a\": \"A qubit is the same as a classical bit, only smaller.\",\n",
      "      \"b\": \"A qubit can only be in one of two states, like a classical bit.\",\n",
      "      \"c\": \"A qubit can exist in a superposition of its two basis states, unlike a classical bit.\",\n",
      "      \"d\": \"A qubit is used in classical computers, while a bit is used in quantum computers.\"\n",
      "    },\n",
      "    \"correct\": \"c\"\n",
      "  },\n",
      "  \"3\": {\n",
      "    \"mcq\": \"What is one of the biggest challenges in building practical quantum computers?\",\n",
      "    \"options\": {\n",
      "      \"a\": \"Finding enough funding for research.\",\n",
      "      \"b\": \"Physically engineering high-quality qubits that are isolated from environmental noise (decoherence).\",\n",
      "      \"c\": \"Developing new programming languages for quantum computers.\",\n",
      "      \"d\": \"Making the computers smaller.\"\n",
      "    },\n",
      "    \"correct\": \"b\"\n",
      "  },\n",
      "  \"4\": {\n",
      "    \"mcq\": \"Which of the following is a potential application of a large-scale quantum computer mentioned in the text?\",\n",
      "    \"options\": {\n",
      "      \"a\": \"Playing video games.\",\n",
      "      \"b\": \"Breaking widely used encryption schemes.\",\n",
      "      \"c\": \"Writing emails.\",\n",
      "      \"d\": \"Browsing the internet.\"\n",
      "    },\n",
      "    \"correct\": \"b\"\n",
      "  },\n",
      "  \"5\": {\n",
      "    \"mcq\": \"Which algorithm, developed by Peter Shor, significantly boosted interest in quantum computing?\",\n",
      "    \"options\": {\n",
      "      \"a\": \"Deutsch's algorithm\",\n",
      "      \"b\": \"Bernstein-Vazirani algorithm\",\n",
      "      \"c\": \"Simon's algorithm\",\n",
      "      \"d\": \"An algorithm for breaking RSA encryption\"\n",
      "    },\n",
      "    \"correct\": \"d\"\n",
      "  }\n",
      "}\n",
      "```\n",
      "\n",
      "Check from an expert English Writer of the above quiz:\n",
      "\u001b[0m\n",
      "\n",
      "\u001b[1m> Finished chain.\u001b[0m\n",
      "\n",
      "\u001b[1m> Finished chain.\u001b[0m\n"
     ]
    }
   ],
   "source": [
    "response=generate_evaluate_chain(\n",
    "    {\n",
    "        \"text\":TEXT,\n",
    "        \"number\":NUMBER,\n",
    "        \"subject\":SUBJECT,\n",
    "        \"tone\":TONE,\n",
    "        \"response_json\":json.dumps(RESPONSE_JSON)\n",
    "    }\n",
    ")"
   ]
  },
  {
   "cell_type": "code",
   "execution_count": 40,
   "id": "d4f97ed2",
   "metadata": {},
   "outputs": [
    {
     "data": {
      "text/plain": [
       "{'text': 'A quantum computer is a (real or theoretical) computer that uses quantum mechanical phenomena in an essential way: a quantum computer exploits superposed and entangled states and the (non-deterministic) outcomes of quantum measurements as features of its computation. Ordinary (\"classical\") computers operate, by contrast, using deterministic rules. Any classical computer can, in principle, be replicated using a (classical) mechanical device such as a Turing machine, with at most a constant-factor slowdown in time—unlike quantum computers, which are believed to require exponentially more resources to simulate classically. It is widely believed that a scalable quantum computer could perform some calculations exponentially faster than any classical computer. Theoretically, a large-scale quantum computer could break some widely used encryption schemes and aid physicists in performing physical simulations. However, current hardware implementations of quantum computation are largely experimental and only suitable for specialized tasks.The basic unit of information in quantum computing, the qubit (or \"quantum bit\"), serves the same function as the bit in ordinary or \"classical\" computing.[1] However, unlike a classical bit, which can be in one of two states (a binary), a qubit can exist in a superposition of its two \"basis\" states, a state that is in an abstract sense \"between\" the two basis states. When measuring a qubit, the result is a probabilistic output of a classical bit. If a quantum computer manipulates the qubit in a particular way, wave interference effects can amplify the desired measurement results. The design of quantum algorithms involves creating procedures that allow a quantum computer to perform calculations efficiently and quickly.\\nQuantum computers are not yet practical for real-world applications. Physically engineering high-quality qubits has proven to be challenging. If a physical qubit is not sufficiently isolated from its environment, it suffers from quantum decoherence, introducing noise into calculations. National governments have invested heavily in experimental research aimed at developing scalable qubits with longer coherence times and lower error rates. Example implementations include superconductors (which isolate an electrical current by eliminating electrical resistance) and ion traps (which confine a single atomic particle using electromagnetic fields). Researchers have claimed, and are widely believed to be correct, that certain quantum devices can outperform classical computers on narrowly defined tasks, a milestone referred to as quantum advantage or quantum supremacy. These tasks are not necessarily useful for real-world applications.\\nFor many years, the fields of quantum mechanics and computer science formed distinct academic communities.[2] Modern quantum theory developed in the 1920s to explain perplexing physical phenomena observed at atomic scales,[3][4] and digital computers emerged in the following decades to replace human computers for tedious calculations.[5] Both disciplines had practical applications during World War II; computers played a major role in wartime cryptography,[6] and quantum physics was essential for nuclear physics used in the Manhattan Project.[7]\\n\\nAs physicists applied quantum mechanical models to computational problems and swapped digital bits for qubits, the fields of quantum mechanics and computer science began to converge. In 1980, Paul Benioff introduced the quantum Turing machine, which uses quantum theory to describe a simplified computer.[8] When digital computers became faster, physicists faced an exponential increase in overhead when simulating quantum dynamics,[9] prompting Yuri Manin and Richard Feynman to independently suggest that hardware based on quantum phenomena might be more efficient for computer simulation.[10][11][12] In a 1984 paper, Charles Bennett and Gilles Brassard applied quantum theory to cryptography protocols and demonstrated that quantum key distribution could enhance information security.[13][14]\\n\\nQuantum algorithms then emerged for solving oracle problems, such as Deutsch\\'s algorithm in 1985,[15] the Bernstein–Vazirani algorithm in 1993,[16] and Simon\\'s algorithm in 1994.[17] These algorithms did not solve practical problems, but demonstrated mathematically that one could gain more information by querying a black box with a quantum state in superposition, sometimes referred to as quantum parallelism.[18]\\n\\n\\nPeter Shor (pictured here in 2017) showed in 1994 that a scalable quantum computer would be able to break RSA encryption.\\nPeter Shor built on these results with his 1994 algorithm for breaking the widely used RSA and Diffie–Hellman encryption protocols,[19] which drew significant attention to the field of quantum computing. In 1996, Grover\\'s algorithm established a quantum speedup for the widely applicable unstructured search problem.[20][21] The same year, Seth Lloyd proved that quantum computers could simulate quantum systems without the exponential overhead present in classical simulations,[22] validating Feynman\\'s 1982 conjecture.[23]\\n\\nOver the years, experimentalists have constructed small-scale quantum computers using trapped ions and superconductors.[24] In 1998, a two-qubit quantum computer demonstrated the feasibility of the technology,[25][26] and subsequent experiments have increased the number of qubits and reduced error rates.[24]\\n\\n\\n\\n\\n\\n\\n',\n",
       " 'number': 5,\n",
       " 'subject': 'quantum computing',\n",
       " 'tone': 'simple',\n",
       " 'response_json': '{\"1\": {\"mcq\": \"multiple choice question\", \"options\": {\"a\": \"choice here\", \"b\": \"choice here\", \"c\": \"choice here\", \"d\": \"choice here\"}, \"correct\": \"correct answer\"}, \"2\": {\"mcq\": \"multiple choice question\", \"options\": {\"a\": \"choice here\", \"b\": \"choice here\", \"c\": \"choice here\", \"d\": \"choice here\"}, \"correct\": \"correct answer\"}, \"3\": {\"mcq\": \"multiple choice question\", \"options\": {\"a\": \"choice here\", \"b\": \"choice here\", \"c\": \"choice here\", \"d\": \"choice here\"}, \"correct\": \"correct answer\"}, \"4\": {\"mcq\": \"multiple choice question\", \"options\": {\"a\": \"choice here\", \"b\": \"choice here\", \"c\": \"choice here\", \"d\": \"choice here\"}, \"correct\": \"correct answer\"}, \"5\": {\"mcq\": \"multiple choice question\", \"options\": {\"a\": \"choice here\", \"b\": \"choice here\", \"c\": \"choice here\", \"d\": \"choice here\"}, \"correct\": \"correct answer\"}}',\n",
       " 'quiz': '```json\\n{\\n  \"1\": {\\n    \"mcq\": \"What is a key difference between quantum computers and classical computers, according to the text?\",\\n    \"options\": {\\n      \"a\": \"Quantum computers use deterministic rules, while classical computers use quantum mechanical phenomena.\",\\n      \"b\": \"Classical computers can be simulated by Turing machines with a constant-factor slowdown, while quantum computers are believed to require exponentially more resources to simulate classically.\",\\n      \"c\": \"Quantum computers are always faster than classical computers for all types of calculations.\",\\n      \"d\": \"Classical computers use qubits, while quantum computers use bits.\"\\n    },\\n    \"correct\": \"b\"\\n  },\\n  \"2\": {\\n    \"mcq\": \"What is a qubit and how does it differ from a classical bit?\",\\n    \"options\": {\\n      \"a\": \"A qubit is the same as a classical bit, only smaller.\",\\n      \"b\": \"A qubit can only be in one of two states, like a classical bit.\",\\n      \"c\": \"A qubit can exist in a superposition of its two basis states, unlike a classical bit.\",\\n      \"d\": \"A qubit is used in classical computers, while a bit is used in quantum computers.\"\\n    },\\n    \"correct\": \"c\"\\n  },\\n  \"3\": {\\n    \"mcq\": \"What is one of the biggest challenges in building practical quantum computers?\",\\n    \"options\": {\\n      \"a\": \"Finding enough funding for research.\",\\n      \"b\": \"Physically engineering high-quality qubits that are isolated from environmental noise (decoherence).\",\\n      \"c\": \"Developing new programming languages for quantum computers.\",\\n      \"d\": \"Making the computers smaller.\"\\n    },\\n    \"correct\": \"b\"\\n  },\\n  \"4\": {\\n    \"mcq\": \"Which of the following is a potential application of a large-scale quantum computer mentioned in the text?\",\\n    \"options\": {\\n      \"a\": \"Playing video games.\",\\n      \"b\": \"Breaking widely used encryption schemes.\",\\n      \"c\": \"Writing emails.\",\\n      \"d\": \"Browsing the internet.\"\\n    },\\n    \"correct\": \"b\"\\n  },\\n  \"5\": {\\n    \"mcq\": \"Which algorithm, developed by Peter Shor, significantly boosted interest in quantum computing?\",\\n    \"options\": {\\n      \"a\": \"Deutsch\\'s algorithm\",\\n      \"b\": \"Bernstein-Vazirani algorithm\",\\n      \"c\": \"Simon\\'s algorithm\",\\n      \"d\": \"An algorithm for breaking RSA encryption\"\\n    },\\n    \"correct\": \"d\"\\n  }\\n}\\n```',\n",
       " 'review': 'Okay, here\\'s an analysis of the quantum computing quiz, followed by revisions to better suit the students\\' level and a more engaging tone.\\n\\n**Complexity Analysis:**\\n\\nThe quiz assesses understanding of fundamental quantum computing concepts. It tests knowledge of differences between quantum and classical computers, qubit properties, challenges in building quantum computers, potential applications, and key algorithms. The cognitive load is moderate, requiring recall and comprehension.\\n\\n**Revised Quiz MCQs:**\\n\\nHere\\'s the revised quiz, aiming for clarity and a slightly more engaging tone, assuming the students are relatively new to the field:\\n\\n```json\\n{\\n  \"1\": {\\n    \"mcq\": \"What\\'s a major advantage quantum computers *could* have over regular computers?\",\\n    \"options\": {\\n      \"a\": \"Quantum computers follow simple, predictable rules.\",\\n      \"b\": \"Regular computers can be easily simulated, but simulating quantum computers is *really* hard for them.\",\\n      \"c\": \"Quantum computers are always faster, no matter what you\\'re doing.\",\\n      \"d\": \"Regular computers use qubits; quantum computers use bits.\"\\n    },\\n    \"correct\": \"b\"\\n  },\\n  \"2\": {\\n    \"mcq\": \"Okay, what *is* a qubit, and how\\'s it different from a regular bit?\",\\n    \"options\": {\\n      \"a\": \"It\\'s just a smaller bit.\",\\n      \"b\": \"It can only be a 0 or a 1, just like a regular bit.\",\\n      \"c\": \"It can be a 0, a 1, *or* a combination of both at the same time!\",\\n      \"d\": \"Qubits are for regular computers; bits are for quantum computers.\"\\n    },\\n    \"correct\": \"c\"\\n  },\\n  \"3\": {\\n    \"mcq\": \"What\\'s a *big* headache when trying to *build* a quantum computer?\",\\n    \"options\": {\\n      \"a\": \"Running out of money.\",\\n      \"b\": \"Keeping qubits stable and shielded from outside interference.\",\\n      \"c\": \"Inventing new computer languages.\",\\n      \"d\": \"Making the computers tiny.\"\\n    },\\n    \"correct\": \"b\"\\n  },\\n  \"4\": {\\n    \"mcq\": \"What\\'s something *amazing* a quantum computer *might* be able to do one day?\",\\n    \"options\": {\\n      \"a\": \"Play video games super fast.\",\\n      \"b\": \"Crack today\\'s toughest security codes.\",\\n      \"c\": \"Send emails.\",\\n      \"d\": \"Browse the web.\"\\n    },\\n    \"correct\": \"b\"\\n  },\\n  \"5\": {\\n    \"mcq\": \"Which algorithm really got people excited about quantum computing?\",\\n    \"options\": {\\n      \"a\": \"Deutsch\\'s algorithm\",\\n      \"b\": \"Bernstein-Vazirani algorithm\",\\n      \"c\": \"Simon\\'s algorithm\",\\n      \"d\": \"Shor\\'s algorithm for breaking RSA encryption\"\\n    },\\n    \"correct\": \"d\"\\n  }\\n}\\n```\\n\\n**Explanation of Changes:**\\n\\n*   **Simplified Language:** Replaced technical terms with more accessible language (e.g., \"classical computers\" to \"regular computers,\" \"deterministic rules\" to \"simple, predictable rules\").\\n*   **Engaging Tone:** Added words like \"Okay,\" \"What\\'s a big headache,\" and \"might be able to do one day\" to make the questions less intimidating and more conversational. I also used italics to emphasize key words.\\n*   **Focus on Core Concepts:** Ensured each question directly addresses a fundamental concept in a clear and concise way.\\n*   **Contextualization:** In question 5, I added \"Shor\\'s algorithm\" to the correct answer to provide more context and reinforce the association.\\n\\nThe goal is to make the quiz more approachable and less intimidating for students who are still developing their understanding of quantum computing.'}"
      ]
     },
     "execution_count": 40,
     "metadata": {},
     "output_type": "execute_result"
    }
   ],
   "source": [
    "response"
   ]
  },
  {
   "cell_type": "code",
   "execution_count": 52,
   "id": "e699ff32",
   "metadata": {},
   "outputs": [],
   "source": [
    "import re\n",
    "raw=response.get(\"quiz\")\n",
    "quiz= re.sub(r\"```json|```\", \"\", raw).strip()\n"
   ]
  },
  {
   "cell_type": "code",
   "execution_count": 54,
   "id": "1f4233cb",
   "metadata": {},
   "outputs": [],
   "source": [
    "quiz=json.loads(quiz)"
   ]
  },
  {
   "cell_type": "code",
   "execution_count": 55,
   "id": "a19876c2",
   "metadata": {},
   "outputs": [],
   "source": [
    "quiz_table_data=[]\n",
    "for key,value in quiz.items():\n",
    "    mcq=value[\"mcq\"]\n",
    "    options=\" | \".join(\n",
    "        [\n",
    "            f\"{option}:{option_value}\"\n",
    "            for option,option_value in value[\"options\"].items()\n",
    "            ]\n",
    "        )\n",
    "    correct=value[\"correct\"]\n",
    "    quiz_table_data.append({\"MCQ\":mcq, \"Choices\":options,\"Correct\":correct})\n"
   ]
  },
  {
   "cell_type": "code",
   "execution_count": 56,
   "id": "f00b89f7",
   "metadata": {},
   "outputs": [
    {
     "data": {
      "text/plain": [
       "[{'MCQ': 'What is a key difference between quantum computers and classical computers, according to the text?',\n",
       "  'Choices': 'a:Quantum computers use deterministic rules, while classical computers use quantum mechanical phenomena. | b:Classical computers can be simulated by Turing machines with a constant-factor slowdown, while quantum computers are believed to require exponentially more resources to simulate classically. | c:Quantum computers are always faster than classical computers for all types of calculations. | d:Classical computers use qubits, while quantum computers use bits.',\n",
       "  'Correct': 'b'},\n",
       " {'MCQ': 'What is a qubit and how does it differ from a classical bit?',\n",
       "  'Choices': 'a:A qubit is the same as a classical bit, only smaller. | b:A qubit can only be in one of two states, like a classical bit. | c:A qubit can exist in a superposition of its two basis states, unlike a classical bit. | d:A qubit is used in classical computers, while a bit is used in quantum computers.',\n",
       "  'Correct': 'c'},\n",
       " {'MCQ': 'What is one of the biggest challenges in building practical quantum computers?',\n",
       "  'Choices': 'a:Finding enough funding for research. | b:Physically engineering high-quality qubits that are isolated from environmental noise (decoherence). | c:Developing new programming languages for quantum computers. | d:Making the computers smaller.',\n",
       "  'Correct': 'b'},\n",
       " {'MCQ': 'Which of the following is a potential application of a large-scale quantum computer mentioned in the text?',\n",
       "  'Choices': 'a:Playing video games. | b:Breaking widely used encryption schemes. | c:Writing emails. | d:Browsing the internet.',\n",
       "  'Correct': 'b'},\n",
       " {'MCQ': 'Which algorithm, developed by Peter Shor, significantly boosted interest in quantum computing?',\n",
       "  'Choices': \"a:Deutsch's algorithm | b:Bernstein-Vazirani algorithm | c:Simon's algorithm | d:An algorithm for breaking RSA encryption\",\n",
       "  'Correct': 'd'}]"
      ]
     },
     "execution_count": 56,
     "metadata": {},
     "output_type": "execute_result"
    }
   ],
   "source": [
    "quiz_table_data"
   ]
  },
  {
   "cell_type": "code",
   "execution_count": 58,
   "id": "aad01e62",
   "metadata": {},
   "outputs": [],
   "source": [
    "quiz=pd.DataFrame(quiz_table_data)"
   ]
  },
  {
   "cell_type": "code",
   "execution_count": 59,
   "id": "04f4a27c",
   "metadata": {},
   "outputs": [],
   "source": [
    "quiz.to_csv(\"QuantumComputing.csv\",index=False)"
   ]
  },
  {
   "cell_type": "code",
   "execution_count": null,
   "id": "d0494236",
   "metadata": {},
   "outputs": [],
   "source": []
  }
 ],
 "metadata": {
  "kernelspec": {
   "display_name": "Python 3",
   "language": "python",
   "name": "python3"
  },
  "language_info": {
   "codemirror_mode": {
    "name": "ipython",
    "version": 3
   },
   "file_extension": ".py",
   "mimetype": "text/x-python",
   "name": "python",
   "nbconvert_exporter": "python",
   "pygments_lexer": "ipython3",
   "version": "3.10.18"
  }
 },
 "nbformat": 4,
 "nbformat_minor": 5
}
